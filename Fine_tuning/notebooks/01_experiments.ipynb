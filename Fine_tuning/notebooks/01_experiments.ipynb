{
 "cells": [
  {
   "cell_type": "code",
   "id": "initial_id",
   "metadata": {
    "collapsed": true,
    "ExecuteTime": {
     "end_time": "2025-10-10T18:01:16.934380Z",
     "start_time": "2025-10-10T18:01:09.953289Z"
    }
   },
   "source": [
    "# Ячейка 1: Импорты и настройка путей\n",
    "\n",
    "import torch\n",
    "import torch.nn as nn\n",
    "import torch.optim as optim\n",
    "from torch.optim import lr_scheduler\n",
    "import numpy as np\n",
    "import torchvision\n",
    "from torchvision import datasets, models, transforms\n",
    "import matplotlib.pyplot as plt\n",
    "import time\n",
    "import os\n",
    "import copy\n",
    "from pathlib import Path\n",
    "\n",
    "# Библиотека с предобученными моделями\n",
    "import timm\n",
    "\n",
    "# Устанавливаем seed для воспроизводимости\n",
    "torch.manual_seed(42)\n",
    "np.random.seed(42)\n",
    "\n",
    "print(\"PyTorch Version: \", torch.__version__)\n",
    "print(\"Torchvision Version: \", torchvision.__version__)\n",
    "print(\"Timm version: \", timm.__version__)\n",
    "\n",
    "# Определяем устройство (GPU, если доступен, иначе CPU)\n",
    "device = torch.device(\"cuda:0\" if torch.cuda.is_available() else \"cpu\")\n",
    "print(\"Using device:\", device)\n",
    "\n",
    "# Настройка путей (так же, как в train.py, но адаптировано для ноутбука)\n",
    "# Предполагаем, что ноутбук в папке 'notebooks', а данные в 'data' на одном уровне\n",
    "PROJECT_DIR = Path.cwd().parent\n",
    "DATA_DIR = PROJECT_DIR / \"data\" / \"raw\"\n",
    "print(f\"Project directory: {PROJECT_DIR}\")\n",
    "print(f\"Data directory: {DATA_DIR}\")"
   ],
   "outputs": [
    {
     "name": "stdout",
     "output_type": "stream",
     "text": [
      "PyTorch Version:  2.8.0+cpu\n",
      "Torchvision Version:  0.23.0+cpu\n",
      "Timm version:  1.0.20\n",
      "Using device: cpu\n",
      "Project directory: C:\\Users\\yaden\\PycharmProjects\\ML_lab1\\Fine_tuning\n",
      "Data directory: C:\\Users\\yaden\\PycharmProjects\\ML_lab1\\Fine_tuning\\data\\raw\n"
     ]
    }
   ],
   "execution_count": 2
  },
  {
   "metadata": {
    "ExecuteTime": {
     "end_time": "2025-10-10T18:01:47.376854Z",
     "start_time": "2025-10-10T18:01:47.362990Z"
    }
   },
   "cell_type": "code",
   "source": [
    "# Ячейка 2: Трансформации и загрузка данных\n",
    "\n",
    "# Задаем параметры\n",
    "IMG_SIZE = 224\n",
    "BATCH_SIZE = 16\n",
    "VAL_SPLIT = 0.2\n",
    "\n",
    "# Трансформации данных\n",
    "data_transforms = {\n",
    "    'train': transforms.Compose([\n",
    "        transforms.RandomResizedCrop(IMG_SIZE),\n",
    "        transforms.RandomHorizontalFlip(),\n",
    "        transforms.ToTensor(),\n",
    "        transforms.Normalize([0.485, 0.456, 0.406], [0.229, 0.224, 0.225])\n",
    "    ]),\n",
    "    'val': transforms.Compose([\n",
    "        transforms.Resize(256),\n",
    "        transforms.CenterCrop(IMG_SIZE),\n",
    "        transforms.ToTensor(),\n",
    "        transforms.Normalize([0.485, 0.456, 0.406], [0.229, 0.224, 0.225])\n",
    "    ]),\n",
    "}\n",
    "\n",
    "# Загружаем весь датасет\n",
    "full_dataset = datasets.ImageFolder(DATA_DIR)\n",
    "\n",
    "# Разделяем на train/val\n",
    "num_data = len(full_dataset)\n",
    "num_val = int(num_data * VAL_SPLIT)\n",
    "num_train = num_data - num_val\n",
    "train_dataset, val_dataset = torch.utils.data.random_split(full_dataset, [num_train, num_val])\n",
    "\n",
    "# Применяем нужные трансформации\n",
    "train_dataset.dataset.transform = data_transforms['train']\n",
    "val_dataset.dataset.transform = data_transforms['val']\n",
    "\n",
    "# Создаем загрузчики\n",
    "dataloaders = {\n",
    "    'train': torch.utils.data.DataLoader(train_dataset, batch_size=BATCH_SIZE, shuffle=True, num_workers=2),\n",
    "    'val': torch.utils.data.DataLoader(val_dataset, batch_size=BATCH_SIZE, shuffle=False, num_workers=2)\n",
    "}\n",
    "\n",
    "dataset_sizes = {'train': len(train_dataset), 'val': len(val_dataset)}\n",
    "class_names = full_dataset.classes\n",
    "num_classes = len(class_names)\n",
    "\n",
    "print(f\"Классы: {class_names}\")\n",
    "print(f\"Количество классов: {num_classes}\")\n",
    "print(f\"Размер обучающей выборки: {dataset_sizes['train']}\")\n",
    "print(f\"Размер валидационной выборки: {dataset_sizes['val']}\")"
   ],
   "id": "aa3c813e705ce1ed",
   "outputs": [
    {
     "name": "stdout",
     "output_type": "stream",
     "text": [
      "Классы: ['balls', 'cars', 'dogs']\n",
      "Количество классов: 3\n",
      "Размер обучающей выборки: 74\n",
      "Размер валидационной выборки: 18\n"
     ]
    }
   ],
   "execution_count": 3
  },
  {
   "metadata": {
    "ExecuteTime": {
     "end_time": "2025-10-10T18:01:53.981277Z",
     "start_time": "2025-10-10T18:01:52.784726Z"
    }
   },
   "cell_type": "code",
   "source": [
    "# Ячейка 3: Выбор, загрузка и адаптация моделей\n",
    "\n",
    "# --- Модель 1: ResNet18 ---\n",
    "model_resnet = timm.create_model('resnet18', pretrained=True, num_classes=num_classes)\n",
    "model_resnet = model_resnet.to(device)\n",
    "\n",
    "print(\"Загружена модель ResNet18.\")\n",
    "\n",
    "# \"Замораживаем\" все слои\n",
    "for param in model_resnet.parameters():\n",
    "    param.requires_grad = False\n",
    "\n",
    "# \"Размораживаем\" только последний слой (классификатор)\n",
    "# У ResNet'ов в timm он называется 'fc' (fully connected)\n",
    "for param in model_resnet.fc.parameters():\n",
    "    param.requires_grad = True\n",
    "\n",
    "# Проверим, что все сделано правильно\n",
    "print(\"\\nПараметры ResNet18 для обучения:\")\n",
    "total_params_resnet = sum(p.numel() for p in model_resnet.parameters())\n",
    "trainable_params_resnet = sum(p.numel() for p in model_resnet.parameters() if p.requires_grad)\n",
    "print(f\"Всего параметров: {total_params_resnet}\")\n",
    "print(f\"Обучаемых параметров (только 'голова'): {trainable_params_resnet}\")\n",
    "\n",
    "\n",
    "# --- Модель 2: EfficientNet_B0 ---\n",
    "model_effnet = timm.create_model('efficientnet_b0', pretrained=True, num_classes=num_classes)\n",
    "model_effnet = model_effnet.to(device)\n",
    "\n",
    "print(\"\\n\" + \"=\"*50)\n",
    "print(\"Загружена модель EfficientNet_B0.\")\n",
    "\n",
    "# \"Замораживаем\" все слои\n",
    "for param in model_effnet.parameters():\n",
    "    param.requires_grad = False\n",
    "\n",
    "# \"Размораживаем\" только последний слой\n",
    "# У EfficientNet'ов в timm он называется 'classifier'\n",
    "for param in model_effnet.classifier.parameters():\n",
    "    param.requires_grad = True\n",
    "\n",
    "# Проверим, что все сделано правильно\n",
    "print(\"\\nПараметры EfficientNet_B0 для обучения:\")\n",
    "total_params_effnet = sum(p.numel() for p in model_effnet.parameters())\n",
    "trainable_params_effnet = sum(p.numel() for p in model_effnet.parameters() if p.requires_grad)\n",
    "print(f\"Всего параметров: {total_params_effnet}\")\n",
    "print(f\"Обучаемых параметров (только 'голова'): {trainable_params_effnet}\")"
   ],
   "id": "f8ef32e6aad0ccf4",
   "outputs": [
    {
     "name": "stdout",
     "output_type": "stream",
     "text": [
      "Загружена модель ResNet18.\n",
      "\n",
      "Параметры ResNet18 для обучения:\n",
      "Всего параметров: 11178051\n",
      "Обучаемых параметров (только 'голова'): 1539\n",
      "\n",
      "==================================================\n",
      "Загружена модель EfficientNet_B0.\n",
      "\n",
      "Параметры EfficientNet_B0 для обучения:\n",
      "Всего параметров: 4011391\n",
      "Обучаемых параметров (только 'голова'): 3843\n"
     ]
    }
   ],
   "execution_count": 4
  },
  {
   "metadata": {
    "ExecuteTime": {
     "end_time": "2025-10-10T18:01:55.758921Z",
     "start_time": "2025-10-10T18:01:55.752928Z"
    }
   },
   "cell_type": "code",
   "source": [
    "# Ячейка 4: Универсальная функция для обучения модели\n",
    "\n",
    "from tqdm.notebook import tqdm # Для красивого progress bar\n",
    "\n",
    "def train_model(model, criterion, optimizer, scheduler, num_epochs=10):\n",
    "    since = time.time()\n",
    "\n",
    "    # Сохраняем лучшие веса модели\n",
    "    best_model_wts = copy.deepcopy(model.state_dict())\n",
    "    best_acc = 0.0\n",
    "    \n",
    "    # Словари для хранения истории обучения\n",
    "    history = {\n",
    "        'train_loss': [],\n",
    "        'val_loss': [],\n",
    "        'train_acc': [],\n",
    "        'val_acc': []\n",
    "    }\n",
    "\n",
    "    for epoch in range(num_epochs):\n",
    "        print(f'Epoch {epoch + 1}/{num_epochs}')\n",
    "        print('-' * 10)\n",
    "\n",
    "        # Каждая эпоха имеет фазу обучения и валидации\n",
    "        for phase in ['train', 'val']:\n",
    "            if phase == 'train':\n",
    "                model.train()  # Установить модель в режим обучения\n",
    "            else:\n",
    "                model.eval()   # Установить модель в режим оценки\n",
    "\n",
    "            running_loss = 0.0\n",
    "            running_corrects = 0\n",
    "\n",
    "            # Итерация по данным\n",
    "            for inputs, labels in tqdm(dataloaders[phase]):\n",
    "                inputs = inputs.to(device)\n",
    "                labels = labels.to(device)\n",
    "\n",
    "                # Обнуляем градиенты\n",
    "                optimizer.zero_grad()\n",
    "\n",
    "                # Прямой проход (forward)\n",
    "                # Отслеживаем историю только в фазе обучения\n",
    "                with torch.set_grad_enabled(phase == 'train'):\n",
    "                    outputs = model(inputs)\n",
    "                    _, preds = torch.max(outputs, 1)\n",
    "                    loss = criterion(outputs, labels)\n",
    "\n",
    "                    # Обратный проход + оптимизация только в фазе обучения\n",
    "                    if phase == 'train':\n",
    "                        loss.backward()\n",
    "                        optimizer.step()\n",
    "\n",
    "                # Статистика\n",
    "                running_loss += loss.item() * inputs.size(0)\n",
    "                running_corrects += torch.sum(preds == labels.data)\n",
    "            \n",
    "            if phase == 'train':\n",
    "                scheduler.step()\n",
    "\n",
    "            epoch_loss = running_loss / dataset_sizes[phase]\n",
    "            epoch_acc = running_corrects.double() / dataset_sizes[phase]\n",
    "\n",
    "            print(f'{phase} Loss: {epoch_loss:.4f} Acc: {epoch_acc:.4f}')\n",
    "\n",
    "            # Сохраняем метрики в историю\n",
    "            history[f'{phase}_loss'].append(epoch_loss)\n",
    "            history[f'{phase}_acc'].append(epoch_acc.item())\n",
    "            \n",
    "            # Глубокое копирование модели, если она лучшая\n",
    "            if phase == 'val' and epoch_acc > best_acc:\n",
    "                best_acc = epoch_acc\n",
    "                best_model_wts = copy.deepcopy(model.state_dict())\n",
    "\n",
    "        print()\n",
    "\n",
    "    time_elapsed = time.time() - since\n",
    "    print(f'Training complete in {time_elapsed // 60:.0f}m {time_elapsed % 60:.0f}s')\n",
    "    print(f'Best val Acc: {best_acc:4f}')\n",
    "\n",
    "    # Загружаем лучшие веса\n",
    "    model.load_state_dict(best_model_wts)\n",
    "    return model, history"
   ],
   "id": "8c1d206ce2247ad2",
   "outputs": [],
   "execution_count": 5
  },
  {
   "metadata": {
    "ExecuteTime": {
     "end_time": "2025-10-10T18:03:31.927333Z",
     "start_time": "2025-10-10T18:02:04.208544Z"
    }
   },
   "cell_type": "code",
   "source": [
    "# Ячейка 5: Обучение модели ResNet18\n",
    "\n",
    "# 1. Задаем функцию потерь\n",
    "criterion = nn.CrossEntropyLoss()\n",
    "\n",
    "# 2. Создаем оптимизатор. Обратите внимание, что мы передаем в него\n",
    "# только обучаемые параметры нашей модели (голову).\n",
    "params_to_update_resnet = [p for p in model_resnet.parameters() if p.requires_grad]\n",
    "optimizer_resnet = optim.Adam(params_to_update_resnet, lr=0.001)\n",
    "\n",
    "# 3. Настраиваем планировщик скорости обучения\n",
    "# Будем уменьшать lr в 0.1 раза каждые 7 эпох\n",
    "exp_lr_scheduler_resnet = lr_scheduler.StepLR(optimizer_resnet, step_size=7, gamma=0.1)\n",
    "\n",
    "# 4. Запускаем обучение!\n",
    "NUM_EPOCHS = 10 \n",
    "trained_resnet, history_resnet = train_model(\n",
    "    model_resnet, \n",
    "    criterion, \n",
    "    optimizer_resnet, \n",
    "    exp_lr_scheduler_resnet, \n",
    "    num_epochs=NUM_EPOCHS\n",
    ")"
   ],
   "id": "b766e0289c6bd2",
   "outputs": [
    {
     "name": "stdout",
     "output_type": "stream",
     "text": [
      "Epoch 1/10\n",
      "----------\n"
     ]
    },
    {
     "data": {
      "text/plain": [
       "  0%|          | 0/5 [00:00<?, ?it/s]"
      ],
      "application/vnd.jupyter.widget-view+json": {
       "version_major": 2,
       "version_minor": 0,
       "model_id": "17eb01e54b5e45b89c63ab593116726c"
      }
     },
     "metadata": {},
     "output_type": "display_data"
    },
    {
     "name": "stdout",
     "output_type": "stream",
     "text": [
      "train Loss: 1.0589 Acc: 0.4730\n"
     ]
    },
    {
     "data": {
      "text/plain": [
       "  0%|          | 0/2 [00:00<?, ?it/s]"
      ],
      "application/vnd.jupyter.widget-view+json": {
       "version_major": 2,
       "version_minor": 0,
       "model_id": "114273fd84814678aa0cc66e75ea775e"
      }
     },
     "metadata": {},
     "output_type": "display_data"
    },
    {
     "name": "stdout",
     "output_type": "stream",
     "text": [
      "val Loss: 1.0891 Acc: 0.3889\n",
      "\n",
      "Epoch 2/10\n",
      "----------\n"
     ]
    },
    {
     "data": {
      "text/plain": [
       "  0%|          | 0/5 [00:00<?, ?it/s]"
      ],
      "application/vnd.jupyter.widget-view+json": {
       "version_major": 2,
       "version_minor": 0,
       "model_id": "cd75ca06016e4cdeb301d9bf756ea018"
      }
     },
     "metadata": {},
     "output_type": "display_data"
    },
    {
     "name": "stdout",
     "output_type": "stream",
     "text": [
      "train Loss: 0.9193 Acc: 0.7297\n"
     ]
    },
    {
     "data": {
      "text/plain": [
       "  0%|          | 0/2 [00:00<?, ?it/s]"
      ],
      "application/vnd.jupyter.widget-view+json": {
       "version_major": 2,
       "version_minor": 0,
       "model_id": "e3f2b649955845678170a9e9f3a65d4d"
      }
     },
     "metadata": {},
     "output_type": "display_data"
    },
    {
     "name": "stdout",
     "output_type": "stream",
     "text": [
      "val Loss: 0.9843 Acc: 0.5556\n",
      "\n",
      "Epoch 3/10\n",
      "----------\n"
     ]
    },
    {
     "data": {
      "text/plain": [
       "  0%|          | 0/5 [00:00<?, ?it/s]"
      ],
      "application/vnd.jupyter.widget-view+json": {
       "version_major": 2,
       "version_minor": 0,
       "model_id": "5dd1e6e8588b4fc59099406299897e0f"
      }
     },
     "metadata": {},
     "output_type": "display_data"
    },
    {
     "name": "stdout",
     "output_type": "stream",
     "text": [
      "train Loss: 0.8238 Acc: 0.8108\n"
     ]
    },
    {
     "data": {
      "text/plain": [
       "  0%|          | 0/2 [00:00<?, ?it/s]"
      ],
      "application/vnd.jupyter.widget-view+json": {
       "version_major": 2,
       "version_minor": 0,
       "model_id": "d150fbf54d584fd8ad0cf12e65ad29a6"
      }
     },
     "metadata": {},
     "output_type": "display_data"
    },
    {
     "name": "stdout",
     "output_type": "stream",
     "text": [
      "val Loss: 0.8747 Acc: 0.6667\n",
      "\n",
      "Epoch 4/10\n",
      "----------\n"
     ]
    },
    {
     "data": {
      "text/plain": [
       "  0%|          | 0/5 [00:00<?, ?it/s]"
      ],
      "application/vnd.jupyter.widget-view+json": {
       "version_major": 2,
       "version_minor": 0,
       "model_id": "a8cb184b534648bab3045e2f3859d180"
      }
     },
     "metadata": {},
     "output_type": "display_data"
    },
    {
     "name": "stdout",
     "output_type": "stream",
     "text": [
      "train Loss: 0.7444 Acc: 0.8919\n"
     ]
    },
    {
     "data": {
      "text/plain": [
       "  0%|          | 0/2 [00:00<?, ?it/s]"
      ],
      "application/vnd.jupyter.widget-view+json": {
       "version_major": 2,
       "version_minor": 0,
       "model_id": "c7e4ce1f662840e98e985ee5c1fd52c4"
      }
     },
     "metadata": {},
     "output_type": "display_data"
    },
    {
     "name": "stdout",
     "output_type": "stream",
     "text": [
      "val Loss: 0.7956 Acc: 0.9444\n",
      "\n",
      "Epoch 5/10\n",
      "----------\n"
     ]
    },
    {
     "data": {
      "text/plain": [
       "  0%|          | 0/5 [00:00<?, ?it/s]"
      ],
      "application/vnd.jupyter.widget-view+json": {
       "version_major": 2,
       "version_minor": 0,
       "model_id": "a36ecc6d50334d53948ae24cb9d0bc79"
      }
     },
     "metadata": {},
     "output_type": "display_data"
    },
    {
     "name": "stdout",
     "output_type": "stream",
     "text": [
      "train Loss: 0.6513 Acc: 0.9595\n"
     ]
    },
    {
     "data": {
      "text/plain": [
       "  0%|          | 0/2 [00:00<?, ?it/s]"
      ],
      "application/vnd.jupyter.widget-view+json": {
       "version_major": 2,
       "version_minor": 0,
       "model_id": "69b6dd870b62437ca62d66ba941e2f20"
      }
     },
     "metadata": {},
     "output_type": "display_data"
    },
    {
     "name": "stdout",
     "output_type": "stream",
     "text": [
      "val Loss: 0.7033 Acc: 1.0000\n",
      "\n",
      "Epoch 6/10\n",
      "----------\n"
     ]
    },
    {
     "data": {
      "text/plain": [
       "  0%|          | 0/5 [00:00<?, ?it/s]"
      ],
      "application/vnd.jupyter.widget-view+json": {
       "version_major": 2,
       "version_minor": 0,
       "model_id": "dc2721c5d3be4c4aaaaa2cb158015ad4"
      }
     },
     "metadata": {},
     "output_type": "display_data"
    },
    {
     "name": "stdout",
     "output_type": "stream",
     "text": [
      "train Loss: 0.5313 Acc: 1.0000\n"
     ]
    },
    {
     "data": {
      "text/plain": [
       "  0%|          | 0/2 [00:00<?, ?it/s]"
      ],
      "application/vnd.jupyter.widget-view+json": {
       "version_major": 2,
       "version_minor": 0,
       "model_id": "f3dd4acb717d44969df2c4879766f49e"
      }
     },
     "metadata": {},
     "output_type": "display_data"
    },
    {
     "name": "stdout",
     "output_type": "stream",
     "text": [
      "val Loss: 0.6263 Acc: 1.0000\n",
      "\n",
      "Epoch 7/10\n",
      "----------\n"
     ]
    },
    {
     "data": {
      "text/plain": [
       "  0%|          | 0/5 [00:00<?, ?it/s]"
      ],
      "application/vnd.jupyter.widget-view+json": {
       "version_major": 2,
       "version_minor": 0,
       "model_id": "263f33ef67a6449fa0002932d444e3da"
      }
     },
     "metadata": {},
     "output_type": "display_data"
    },
    {
     "name": "stdout",
     "output_type": "stream",
     "text": [
      "train Loss: 0.5163 Acc: 1.0000\n"
     ]
    },
    {
     "data": {
      "text/plain": [
       "  0%|          | 0/2 [00:00<?, ?it/s]"
      ],
      "application/vnd.jupyter.widget-view+json": {
       "version_major": 2,
       "version_minor": 0,
       "model_id": "1656d1ca32b842aaa6632420202f4b04"
      }
     },
     "metadata": {},
     "output_type": "display_data"
    },
    {
     "name": "stdout",
     "output_type": "stream",
     "text": [
      "val Loss: 0.5780 Acc: 1.0000\n",
      "\n",
      "Epoch 8/10\n",
      "----------\n"
     ]
    },
    {
     "data": {
      "text/plain": [
       "  0%|          | 0/5 [00:00<?, ?it/s]"
      ],
      "application/vnd.jupyter.widget-view+json": {
       "version_major": 2,
       "version_minor": 0,
       "model_id": "838c3fec76d04605bdc9d4b4dc41e299"
      }
     },
     "metadata": {},
     "output_type": "display_data"
    },
    {
     "name": "stdout",
     "output_type": "stream",
     "text": [
      "train Loss: 0.4495 Acc: 1.0000\n"
     ]
    },
    {
     "data": {
      "text/plain": [
       "  0%|          | 0/2 [00:00<?, ?it/s]"
      ],
      "application/vnd.jupyter.widget-view+json": {
       "version_major": 2,
       "version_minor": 0,
       "model_id": "5e1b6ee2eae04eccabd6ab12d24844a3"
      }
     },
     "metadata": {},
     "output_type": "display_data"
    },
    {
     "name": "stdout",
     "output_type": "stream",
     "text": [
      "val Loss: 0.5619 Acc: 1.0000\n",
      "\n",
      "Epoch 9/10\n",
      "----------\n"
     ]
    },
    {
     "data": {
      "text/plain": [
       "  0%|          | 0/5 [00:00<?, ?it/s]"
      ],
      "application/vnd.jupyter.widget-view+json": {
       "version_major": 2,
       "version_minor": 0,
       "model_id": "a577f9f71d1e465bb34fbfd555af2f8a"
      }
     },
     "metadata": {},
     "output_type": "display_data"
    },
    {
     "name": "stdout",
     "output_type": "stream",
     "text": [
      "train Loss: 0.4605 Acc: 1.0000\n"
     ]
    },
    {
     "data": {
      "text/plain": [
       "  0%|          | 0/2 [00:00<?, ?it/s]"
      ],
      "application/vnd.jupyter.widget-view+json": {
       "version_major": 2,
       "version_minor": 0,
       "model_id": "1be27ad049414237903dea4c5556b217"
      }
     },
     "metadata": {},
     "output_type": "display_data"
    },
    {
     "name": "stdout",
     "output_type": "stream",
     "text": [
      "val Loss: 0.5519 Acc: 1.0000\n",
      "\n",
      "Epoch 10/10\n",
      "----------\n"
     ]
    },
    {
     "data": {
      "text/plain": [
       "  0%|          | 0/5 [00:00<?, ?it/s]"
      ],
      "application/vnd.jupyter.widget-view+json": {
       "version_major": 2,
       "version_minor": 0,
       "model_id": "013d1dc5d98d42e3825fdb9a271d0119"
      }
     },
     "metadata": {},
     "output_type": "display_data"
    },
    {
     "name": "stdout",
     "output_type": "stream",
     "text": [
      "train Loss: 0.4529 Acc: 1.0000\n"
     ]
    },
    {
     "data": {
      "text/plain": [
       "  0%|          | 0/2 [00:00<?, ?it/s]"
      ],
      "application/vnd.jupyter.widget-view+json": {
       "version_major": 2,
       "version_minor": 0,
       "model_id": "891b41f642c94c53b32b008928309c3b"
      }
     },
     "metadata": {},
     "output_type": "display_data"
    },
    {
     "name": "stdout",
     "output_type": "stream",
     "text": [
      "val Loss: 0.5413 Acc: 1.0000\n",
      "\n",
      "Training complete in 1m 28s\n",
      "Best val Acc: 1.000000\n"
     ]
    }
   ],
   "execution_count": 6
  },
  {
   "metadata": {
    "ExecuteTime": {
     "end_time": "2025-10-10T18:03:32.183Z",
     "start_time": "2025-10-10T18:03:31.928519Z"
    }
   },
   "cell_type": "code",
   "source": [
    "# Ячейка 6: Визуализация результатов обучения ResNet18\n",
    "\n",
    "def plot_history(history, model_name):\n",
    "    fig, (ax1, ax2) = plt.subplots(1, 2, figsize=(15, 5))\n",
    "    \n",
    "    # График потерь (Loss)\n",
    "    ax1.plot(history['train_loss'], label='Train Loss')\n",
    "    ax1.plot(history['val_loss'], label='Validation Loss')\n",
    "    ax1.set_title(f'{model_name} - Loss over Epochs')\n",
    "    ax1.set_xlabel('Epoch')\n",
    "    ax1.set_ylabel('Loss')\n",
    "    ax1.legend()\n",
    "    ax1.grid(True)\n",
    "\n",
    "    # График точности (Accuracy)\n",
    "    ax2.plot(history['train_acc'], label='Train Accuracy')\n",
    "    ax2.plot(history['val_acc'], label='Validation Accuracy')\n",
    "    ax2.set_title(f'{model_name} - Accuracy over Epochs')\n",
    "    ax2.set_xlabel('Epoch')\n",
    "    ax2.set_ylabel('Accuracy')\n",
    "    ax2.legend()\n",
    "    ax2.grid(True)\n",
    "    \n",
    "    plt.show()\n",
    "\n",
    "plot_history(history_resnet, \"ResNet18\")"
   ],
   "id": "22d977d490afd9b9",
   "outputs": [
    {
     "data": {
      "text/plain": [
       "<Figure size 1500x500 with 2 Axes>"
      ],
      "image/png": "[encoded data removed]"
     },
     "metadata": {},
     "output_type": "display_data"
    }
   ],
   "execution_count": 7
  },
  {
   "metadata": {},
   "cell_type": "markdown",
   "source": "# Ячейка 7: Обучение модели EfficientNet_B0",
   "id": "3f54488bace82c1b"
  },
  {
   "metadata": {
    "ExecuteTime": {
     "end_time": "2025-10-10T18:05:09.106938Z",
     "start_time": "2025-10-10T18:03:47.623373Z"
    }
   },
   "cell_type": "code",
   "source": [
    "# Создаем оптимизатор для EfficientNet_B0\n",
    "params_to_update_effnet = [p for p in model_effnet.parameters() if p.requires_grad]\n",
    "optimizer_effnet = optim.Adam(params_to_update_effnet, lr=0.001)\n",
    "\n",
    "# Настраиваем планировщик\n",
    "exp_lr_scheduler_effnet = lr_scheduler.StepLR(optimizer_effnet, step_size=7, gamma=0.1)\n",
    "\n",
    "# Запускаем обучение EfficientNet_B0\n",
    "trained_effnet, history_effnet = train_model(\n",
    "    model_effnet, \n",
    "    criterion, \n",
    "    optimizer_effnet, \n",
    "    exp_lr_scheduler_effnet, \n",
    "    num_epochs=NUM_EPOCHS\n",
    ")"
   ],
   "id": "e5e9adacba1d6735",
   "outputs": [
    {
     "name": "stdout",
     "output_type": "stream",
     "text": [
      "Epoch 1/10\n",
      "----------\n"
     ]
    },
    {
     "data": {
      "text/plain": [
       "  0%|          | 0/5 [00:00<?, ?it/s]"
      ],
      "application/vnd.jupyter.widget-view+json": {
       "version_major": 2,
       "version_minor": 0,
       "model_id": "9c6b76f0fd174411826740db0eb25587"
      }
     },
     "metadata": {},
     "output_type": "display_data"
    },
    {
     "name": "stdout",
     "output_type": "stream",
     "text": [
      "train Loss: 4.4254 Acc: 0.3378\n"
     ]
    },
    {
     "data": {
      "text/plain": [
       "  0%|          | 0/2 [00:00<?, ?it/s]"
      ],
      "application/vnd.jupyter.widget-view+json": {
       "version_major": 2,
       "version_minor": 0,
       "model_id": "2cc9c9bdc94041e3a9b839f55f5a7e56"
      }
     },
     "metadata": {},
     "output_type": "display_data"
    },
    {
     "name": "stdout",
     "output_type": "stream",
     "text": [
      "val Loss: 2.8567 Acc: 0.4444\n",
      "\n",
      "Epoch 2/10\n",
      "----------\n"
     ]
    },
    {
     "data": {
      "text/plain": [
       "  0%|          | 0/5 [00:00<?, ?it/s]"
      ],
      "application/vnd.jupyter.widget-view+json": {
       "version_major": 2,
       "version_minor": 0,
       "model_id": "a53d198bc6414314b8c914f0c67e5e08"
      }
     },
     "metadata": {},
     "output_type": "display_data"
    },
    {
     "name": "stdout",
     "output_type": "stream",
     "text": [
      "train Loss: 3.3855 Acc: 0.4189\n"
     ]
    },
    {
     "data": {
      "text/plain": [
       "  0%|          | 0/2 [00:00<?, ?it/s]"
      ],
      "application/vnd.jupyter.widget-view+json": {
       "version_major": 2,
       "version_minor": 0,
       "model_id": "2d5891f892bb403d986671ebedc64343"
      }
     },
     "metadata": {},
     "output_type": "display_data"
    },
    {
     "name": "stdout",
     "output_type": "stream",
     "text": [
      "val Loss: 2.7432 Acc: 0.5000\n",
      "\n",
      "Epoch 3/10\n",
      "----------\n"
     ]
    },
    {
     "data": {
      "text/plain": [
       "  0%|          | 0/5 [00:00<?, ?it/s]"
      ],
      "application/vnd.jupyter.widget-view+json": {
       "version_major": 2,
       "version_minor": 0,
       "model_id": "e419f6068e1a41298a38a631449ddfc4"
      }
     },
     "metadata": {},
     "output_type": "display_data"
    },
    {
     "name": "stdout",
     "output_type": "stream",
     "text": [
      "train Loss: 2.7429 Acc: 0.4459\n"
     ]
    },
    {
     "data": {
      "text/plain": [
       "  0%|          | 0/2 [00:00<?, ?it/s]"
      ],
      "application/vnd.jupyter.widget-view+json": {
       "version_major": 2,
       "version_minor": 0,
       "model_id": "42510ae049974ed38112d15f97eac311"
      }
     },
     "metadata": {},
     "output_type": "display_data"
    },
    {
     "name": "stdout",
     "output_type": "stream",
     "text": [
      "val Loss: 2.6904 Acc: 0.5000\n",
      "\n",
      "Epoch 4/10\n",
      "----------\n"
     ]
    },
    {
     "data": {
      "text/plain": [
       "  0%|          | 0/5 [00:00<?, ?it/s]"
      ],
      "application/vnd.jupyter.widget-view+json": {
       "version_major": 2,
       "version_minor": 0,
       "model_id": "5626348a11d34d768907477c7307aa0e"
      }
     },
     "metadata": {},
     "output_type": "display_data"
    },
    {
     "name": "stdout",
     "output_type": "stream",
     "text": [
      "train Loss: 2.4872 Acc: 0.4459\n"
     ]
    },
    {
     "data": {
      "text/plain": [
       "  0%|          | 0/2 [00:00<?, ?it/s]"
      ],
      "application/vnd.jupyter.widget-view+json": {
       "version_major": 2,
       "version_minor": 0,
       "model_id": "c3ad2be2697a411ab57a3f082469f805"
      }
     },
     "metadata": {},
     "output_type": "display_data"
    },
    {
     "name": "stdout",
     "output_type": "stream",
     "text": [
      "val Loss: 2.6960 Acc: 0.5000\n",
      "\n",
      "Epoch 5/10\n",
      "----------\n"
     ]
    },
    {
     "data": {
      "text/plain": [
       "  0%|          | 0/5 [00:00<?, ?it/s]"
      ],
      "application/vnd.jupyter.widget-view+json": {
       "version_major": 2,
       "version_minor": 0,
       "model_id": "1fa92b98d3d143cfa814bc0966105e9a"
      }
     },
     "metadata": {},
     "output_type": "display_data"
    },
    {
     "name": "stdout",
     "output_type": "stream",
     "text": [
      "train Loss: 2.1690 Acc: 0.5811\n"
     ]
    },
    {
     "data": {
      "text/plain": [
       "  0%|          | 0/2 [00:00<?, ?it/s]"
      ],
      "application/vnd.jupyter.widget-view+json": {
       "version_major": 2,
       "version_minor": 0,
       "model_id": "a2df27ef037d44b1b4a3e43f7d464e7b"
      }
     },
     "metadata": {},
     "output_type": "display_data"
    },
    {
     "name": "stdout",
     "output_type": "stream",
     "text": [
      "val Loss: 2.7103 Acc: 0.5000\n",
      "\n",
      "Epoch 6/10\n",
      "----------\n"
     ]
    },
    {
     "data": {
      "text/plain": [
       "  0%|          | 0/5 [00:00<?, ?it/s]"
      ],
      "application/vnd.jupyter.widget-view+json": {
       "version_major": 2,
       "version_minor": 0,
       "model_id": "93ccc3f88e9d41c0a8227e238e8c71fe"
      }
     },
     "metadata": {},
     "output_type": "display_data"
    },
    {
     "name": "stdout",
     "output_type": "stream",
     "text": [
      "train Loss: 2.1073 Acc: 0.5000\n"
     ]
    },
    {
     "data": {
      "text/plain": [
       "  0%|          | 0/2 [00:00<?, ?it/s]"
      ],
      "application/vnd.jupyter.widget-view+json": {
       "version_major": 2,
       "version_minor": 0,
       "model_id": "188f3fd490724c288eb968c1a1dec083"
      }
     },
     "metadata": {},
     "output_type": "display_data"
    },
    {
     "name": "stdout",
     "output_type": "stream",
     "text": [
      "val Loss: 2.7936 Acc: 0.4444\n",
      "\n",
      "Epoch 7/10\n",
      "----------\n"
     ]
    },
    {
     "data": {
      "text/plain": [
       "  0%|          | 0/5 [00:00<?, ?it/s]"
      ],
      "application/vnd.jupyter.widget-view+json": {
       "version_major": 2,
       "version_minor": 0,
       "model_id": "9871c9da67364008b3eb1cf8a62bf4b4"
      }
     },
     "metadata": {},
     "output_type": "display_data"
    },
    {
     "name": "stdout",
     "output_type": "stream",
     "text": [
      "train Loss: 1.7713 Acc: 0.5811\n"
     ]
    },
    {
     "data": {
      "text/plain": [
       "  0%|          | 0/2 [00:00<?, ?it/s]"
      ],
      "application/vnd.jupyter.widget-view+json": {
       "version_major": 2,
       "version_minor": 0,
       "model_id": "192b179ad30f432f834bffd3667bea12"
      }
     },
     "metadata": {},
     "output_type": "display_data"
    },
    {
     "name": "stdout",
     "output_type": "stream",
     "text": [
      "val Loss: 2.6625 Acc: 0.4444\n",
      "\n",
      "Epoch 8/10\n",
      "----------\n"
     ]
    },
    {
     "data": {
      "text/plain": [
       "  0%|          | 0/5 [00:00<?, ?it/s]"
      ],
      "application/vnd.jupyter.widget-view+json": {
       "version_major": 2,
       "version_minor": 0,
       "model_id": "54ce6119dfb040d1a409ea04ac72c2c2"
      }
     },
     "metadata": {},
     "output_type": "display_data"
    },
    {
     "name": "stdout",
     "output_type": "stream",
     "text": [
      "train Loss: 1.4920 Acc: 0.5541\n"
     ]
    },
    {
     "data": {
      "text/plain": [
       "  0%|          | 0/2 [00:00<?, ?it/s]"
      ],
      "application/vnd.jupyter.widget-view+json": {
       "version_major": 2,
       "version_minor": 0,
       "model_id": "a0e3b869e37447808a78003708f9b729"
      }
     },
     "metadata": {},
     "output_type": "display_data"
    },
    {
     "name": "stdout",
     "output_type": "stream",
     "text": [
      "val Loss: 2.6352 Acc: 0.4444\n",
      "\n",
      "Epoch 9/10\n",
      "----------\n"
     ]
    },
    {
     "data": {
      "text/plain": [
       "  0%|          | 0/5 [00:00<?, ?it/s]"
      ],
      "application/vnd.jupyter.widget-view+json": {
       "version_major": 2,
       "version_minor": 0,
       "model_id": "3109d0088f71417b8181add062126f38"
      }
     },
     "metadata": {},
     "output_type": "display_data"
    },
    {
     "name": "stdout",
     "output_type": "stream",
     "text": [
      "train Loss: 1.2702 Acc: 0.6351\n"
     ]
    },
    {
     "data": {
      "text/plain": [
       "  0%|          | 0/2 [00:00<?, ?it/s]"
      ],
      "application/vnd.jupyter.widget-view+json": {
       "version_major": 2,
       "version_minor": 0,
       "model_id": "ee4cf170ab9c48e89954b1e97827c61e"
      }
     },
     "metadata": {},
     "output_type": "display_data"
    },
    {
     "name": "stdout",
     "output_type": "stream",
     "text": [
      "val Loss: 2.6300 Acc: 0.4444\n",
      "\n",
      "Epoch 10/10\n",
      "----------\n"
     ]
    },
    {
     "data": {
      "text/plain": [
       "  0%|          | 0/5 [00:00<?, ?it/s]"
      ],
      "application/vnd.jupyter.widget-view+json": {
       "version_major": 2,
       "version_minor": 0,
       "model_id": "075cb256770a41e5b8dea6529175d47f"
      }
     },
     "metadata": {},
     "output_type": "display_data"
    },
    {
     "name": "stdout",
     "output_type": "stream",
     "text": [
      "train Loss: 1.5421 Acc: 0.5811\n"
     ]
    },
    {
     "data": {
      "text/plain": [
       "  0%|          | 0/2 [00:00<?, ?it/s]"
      ],
      "application/vnd.jupyter.widget-view+json": {
       "version_major": 2,
       "version_minor": 0,
       "model_id": "7e6552a3e7514d339d75b22a227f7a6b"
      }
     },
     "metadata": {},
     "output_type": "display_data"
    },
    {
     "name": "stdout",
     "output_type": "stream",
     "text": [
      "val Loss: 2.6728 Acc: 0.4444\n",
      "\n",
      "Training complete in 1m 21s\n",
      "Best val Acc: 0.500000\n"
     ]
    }
   ],
   "execution_count": 8
  },
  {
   "metadata": {
    "ExecuteTime": {
     "end_time": "2025-10-10T18:06:28.723886Z",
     "start_time": "2025-10-10T18:06:28.448513Z"
    }
   },
   "cell_type": "code",
   "source": [
    "# Ячейка 8: Визуализация результатов обучения EfficientNet_B0\n",
    "\n",
    "plot_history(history_effnet, \"EfficientNet_B0\")"
   ],
   "id": "3e3e25338343610b",
   "outputs": [
    {
     "data": {
      "text/plain": [
       "<Figure size 1500x500 with 2 Axes>"
      ],
      "image/png": "[encoded data removed]"
     },
     "metadata": {},
     "output_type": "display_data"
    }
   ],
   "execution_count": 9
  },
  {
   "metadata": {
    "ExecuteTime": {
     "end_time": "2025-10-10T18:06:40.585625Z",
     "start_time": "2025-10-10T18:06:32.966934Z"
    }
   },
   "cell_type": "code",
   "source": [
    "# Ячейка 9: Функция для построения матрицы ошибок\n",
    "\n",
    "from sklearn.metrics import confusion_matrix\n",
    "import seaborn as sns\n",
    "import pandas as pd\n",
    "\n",
    "def plot_confusion_matrix(model, model_name):\n",
    "    model.eval() # Переводим модель в режим оценки\n",
    "    \n",
    "    all_preds = torch.tensor([]).to(device)\n",
    "    all_labels = torch.tensor([]).to(device)\n",
    "\n",
    "    with torch.no_grad():\n",
    "        for inputs, labels in dataloaders['val']:\n",
    "            inputs = inputs.to(device)\n",
    "            labels = labels.to(device)\n",
    "            \n",
    "            outputs = model(inputs)\n",
    "            _, preds = torch.max(outputs, 1)\n",
    "            \n",
    "            all_preds = torch.cat((all_preds, preds), dim=0)\n",
    "            all_labels = torch.cat((all_labels, labels), dim=0)\n",
    "    \n",
    "    # Переносим на CPU для работы с sklearn\n",
    "    all_preds = all_preds.cpu().numpy()\n",
    "    all_labels = all_labels.cpu().numpy()\n",
    "\n",
    "    cm = confusion_matrix(all_labels, all_preds)\n",
    "    df_cm = pd.DataFrame(cm, index=class_names, columns=class_names)\n",
    "    \n",
    "    plt.figure(figsize=(8, 6))\n",
    "    sns.heatmap(df_cm, annot=True, cmap='Blues', fmt='g')\n",
    "    plt.title(f'Матрица ошибок для {model_name}')\n",
    "    plt.ylabel('Истинный класс')\n",
    "    plt.xlabel('Предсказанный класс')\n",
    "    plt.show()\n",
    "\n",
    "# Строим матрицу для ResNet18\n",
    "plot_confusion_matrix(trained_resnet, \"ResNet18\")\n",
    "\n",
    "# После обучения EfficientNet_B0, вы сможете построить матрицу и для него:\n",
    "plot_confusion_matrix(trained_effnet, \"EfficientNet_B0\")"
   ],
   "id": "e28ce999a6c855d1",
   "outputs": [
    {
     "data": {
      "text/plain": [
       "<Figure size 800x600 with 2 Axes>"
      ],
      "image/png": "[encoded data removed]"
     },
     "metadata": {},
     "output_type": "display_data"
    },
    {
     "data": {
      "text/plain": [
       "<Figure size 800x600 with 2 Axes>"
      ],
      "image/png": "[encoded data removed]"
     },
     "metadata": {},
     "output_type": "display_data"
    }
   ],
   "execution_count": 10
  },
  {
   "metadata": {},
   "cell_type": "code",
   "outputs": [],
   "execution_count": null,
   "source": "",
   "id": "6fdf1366ed7ee35c"
  }
 ],
 "metadata": {
  "kernelspec": {
   "display_name": "Python 3",
   "language": "python",
   "name": "python3"
  },
  "language_info": {
   "codemirror_mode": {
    "name": "ipython",
    "version": 2
   },
   "file_extension": ".py",
   "mimetype": "text/x-python",
   "name": "python",
   "nbconvert_exporter": "python",
   "pygments_lexer": "ipython2",
   "version": "2.7.6"
  }
 },
 "nbformat": 4,
 "nbformat_minor": 5
}
