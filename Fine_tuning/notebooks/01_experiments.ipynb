{
 "cells": [
  {
   "metadata": {},
   "cell_type": "markdown",
   "source": "# Ячейка 1: Импорты и настройка путей",
   "id": "fbdf281c72db76b4"
  },
  {
   "cell_type": "code",
   "id": "initial_id",
   "metadata": {
    "collapsed": true,
    "ExecuteTime": {
     "end_time": "2025-10-17T19:55:26.399053Z",
     "start_time": "2025-10-17T19:55:22.623096Z"
    }
   },
   "source": [
    "import torch\n",
    "import torch.nn as nn\n",
    "import torch.optim as optim\n",
    "from torch.optim import lr_scheduler\n",
    "import numpy as np\n",
    "import torchvision\n",
    "from torchvision import datasets, models, transforms\n",
    "import matplotlib.pyplot as plt\n",
    "import time\n",
    "import os\n",
    "import copy\n",
    "from pathlib import Path\n",
    "\n",
    "# Библиотека с предобученными моделями\n",
    "import timm\n",
    "\n",
    "# Устанавливаем seed для воспроизводимости\n",
    "torch.manual_seed(42)\n",
    "np.random.seed(42)\n",
    "\n",
    "print(\"PyTorch Version: \", torch.__version__)\n",
    "print(\"Torchvision Version: \", torchvision.__version__)\n",
    "print(\"Timm version: \", timm.__version__)\n",
    "\n",
    "# Определяем устройство (GPU, если доступен, иначе CPU)\n",
    "device = torch.device(\"cuda:0\" if torch.cuda.is_available() else \"cpu\")\n",
    "print(\"Using device:\", device)\n",
    "\n",
    "# Настройка путей (так же, как в train.py, но адаптировано для ноутбука)\n",
    "# Предполагаем, что ноутбук в папке 'notebooks', а данные в 'data' на одном уровне\n",
    "PROJECT_DIR = Path.cwd().parent\n",
    "DATA_DIR = PROJECT_DIR / \"data\" / \"raw\"\n",
    "print(f\"Project directory: {PROJECT_DIR}\")\n",
    "print(f\"Data directory: {DATA_DIR}\")"
   ],
   "outputs": [
    {
     "name": "stdout",
     "output_type": "stream",
     "text": [
      "PyTorch Version:  2.8.0+cpu\n",
      "Torchvision Version:  0.23.0+cpu\n",
      "Timm version:  1.0.20\n",
      "Using device: cpu\n",
      "Project directory: C:\\Users\\yaden\\PycharmProjects\\ML_lab1\\Fine_tuning\n",
      "Data directory: C:\\Users\\yaden\\PycharmProjects\\ML_lab1\\Fine_tuning\\data\\raw\n"
     ]
    }
   ],
   "execution_count": 1
  },
  {
   "metadata": {},
   "cell_type": "markdown",
   "source": "# Ячейка 2: Трансформации и загрузка данных",
   "id": "f2e8ea0459975df8"
  },
  {
   "metadata": {
    "ExecuteTime": {
     "end_time": "2025-10-17T19:55:31.796580Z",
     "start_time": "2025-10-17T19:55:31.788557Z"
    }
   },
   "cell_type": "code",
   "source": [
    "# Задаем параметры\n",
    "IMG_SIZE = 224\n",
    "BATCH_SIZE = 16\n",
    "VAL_SPLIT = 0.2\n",
    "\n",
    "# Трансформации данных\n",
    "data_transforms = {\n",
    "    'train': transforms.Compose([\n",
    "        transforms.RandomResizedCrop(IMG_SIZE),\n",
    "        transforms.RandomHorizontalFlip(),\n",
    "        transforms.ToTensor(),\n",
    "        transforms.Normalize([0.485, 0.456, 0.406], [0.229, 0.224, 0.225])\n",
    "    ]),\n",
    "    'val': transforms.Compose([\n",
    "        transforms.Resize(256),\n",
    "        transforms.CenterCrop(IMG_SIZE),\n",
    "        transforms.ToTensor(),\n",
    "        transforms.Normalize([0.485, 0.456, 0.406], [0.229, 0.224, 0.225])\n",
    "    ]),\n",
    "}\n",
    "\n",
    "# Загружаем весь датасет\n",
    "full_dataset = datasets.ImageFolder(DATA_DIR)\n",
    "\n",
    "# Разделяем на train/val\n",
    "num_data = len(full_dataset)\n",
    "num_val = int(num_data * VAL_SPLIT)\n",
    "num_train = num_data - num_val\n",
    "train_dataset, val_dataset = torch.utils.data.random_split(full_dataset, [num_train, num_val])\n",
    "\n",
    "# Применяем нужные трансформации\n",
    "train_dataset.dataset.transform = data_transforms['train']\n",
    "val_dataset.dataset.transform = data_transforms['val']\n",
    "\n",
    "# Создаем загрузчики\n",
    "dataloaders = {\n",
    "    'train': torch.utils.data.DataLoader(train_dataset, batch_size=BATCH_SIZE, shuffle=True, num_workers=2),\n",
    "    'val': torch.utils.data.DataLoader(val_dataset, batch_size=BATCH_SIZE, shuffle=False, num_workers=2)\n",
    "}\n",
    "\n",
    "dataset_sizes = {'train': len(train_dataset), 'val': len(val_dataset)}\n",
    "class_names = full_dataset.classes\n",
    "num_classes = len(class_names)\n",
    "\n",
    "print(f\"Классы: {class_names}\")\n",
    "print(f\"Количество классов: {num_classes}\")\n",
    "print(f\"Размер обучающей выборки: {dataset_sizes['train']}\")\n",
    "print(f\"Размер валидационной выборки: {dataset_sizes['val']}\")"
   ],
   "id": "aa3c813e705ce1ed",
   "outputs": [
    {
     "name": "stdout",
     "output_type": "stream",
     "text": [
      "Классы: ['cats', 'dogs', 'humsters']\n",
      "Количество классов: 3\n",
      "Размер обучающей выборки: 72\n",
      "Размер валидационной выборки: 17\n"
     ]
    }
   ],
   "execution_count": 2
  },
  {
   "metadata": {},
   "cell_type": "markdown",
   "source": "# Ячейка 3: Выбор, загрузка и адаптация моделей",
   "id": "1af3fb0d546113ae"
  },
  {
   "metadata": {
    "ExecuteTime": {
     "end_time": "2025-10-17T19:55:40.045224Z",
     "start_time": "2025-10-17T19:55:39.036039Z"
    }
   },
   "cell_type": "code",
   "source": [
    "# --- Модель 1: ResNet18 ---\n",
    "model_resnet = timm.create_model('resnet18', pretrained=True, num_classes=num_classes)\n",
    "model_resnet = model_resnet.to(device)\n",
    "\n",
    "print(\"Загружена модель ResNet18.\")\n",
    "\n",
    "# \"Замораживаем\" все слои\n",
    "for param in model_resnet.parameters():\n",
    "    param.requires_grad = False\n",
    "\n",
    "# \"Размораживаем\" только последний слой (классификатор)\n",
    "# У ResNet'ов в timm он называется 'fc' (fully connected)\n",
    "for param in model_resnet.fc.parameters():\n",
    "    param.requires_grad = True\n",
    "\n",
    "# Проверим, что все сделано правильно\n",
    "print(\"\\nПараметры ResNet18 для обучения:\")\n",
    "total_params_resnet = sum(p.numel() for p in model_resnet.parameters())\n",
    "trainable_params_resnet = sum(p.numel() for p in model_resnet.parameters() if p.requires_grad)\n",
    "print(f\"Всего параметров: {total_params_resnet}\")\n",
    "print(f\"Обучаемых параметров (только 'голова'): {trainable_params_resnet}\")\n",
    "\n",
    "\n",
    "# --- Модель 2: EfficientNet_B0 ---\n",
    "model_effnet = timm.create_model('efficientnet_b0', pretrained=True, num_classes=num_classes)\n",
    "model_effnet = model_effnet.to(device)\n",
    "\n",
    "print(\"\\n\" + \"=\"*50)\n",
    "print(\"Загружена модель EfficientNet_B0.\")\n",
    "\n",
    "# \"Замораживаем\" все слои\n",
    "for param in model_effnet.parameters():\n",
    "    param.requires_grad = False\n",
    "\n",
    "# \"Размораживаем\" только последний слой\n",
    "# У EfficientNet'ов в timm он называется 'classifier'\n",
    "for param in model_effnet.classifier.parameters():\n",
    "    param.requires_grad = True\n",
    "\n",
    "# Проверим, что все сделано правильно\n",
    "print(\"\\nПараметры EfficientNet_B0 для обучения:\")\n",
    "total_params_effnet = sum(p.numel() for p in model_effnet.parameters())\n",
    "trainable_params_effnet = sum(p.numel() for p in model_effnet.parameters() if p.requires_grad)\n",
    "print(f\"Всего параметров: {total_params_effnet}\")\n",
    "print(f\"Обучаемых параметров (только 'голова'): {trainable_params_effnet}\")"
   ],
   "id": "f8ef32e6aad0ccf4",
   "outputs": [
    {
     "name": "stdout",
     "output_type": "stream",
     "text": [
      "Загружена модель ResNet18.\n",
      "\n",
      "Параметры ResNet18 для обучения:\n",
      "Всего параметров: 11178051\n",
      "Обучаемых параметров (только 'голова'): 1539\n",
      "\n",
      "==================================================\n",
      "Загружена модель EfficientNet_B0.\n",
      "\n",
      "Параметры EfficientNet_B0 для обучения:\n",
      "Всего параметров: 4011391\n",
      "Обучаемых параметров (только 'голова'): 3843\n"
     ]
    }
   ],
   "execution_count": 3
  },
  {
   "metadata": {},
   "cell_type": "markdown",
   "source": "# Ячейка 4: Универсальная функция для обучения модели",
   "id": "7d0ad93073e791c"
  },
  {
   "metadata": {
    "ExecuteTime": {
     "end_time": "2025-10-17T19:55:47.693044Z",
     "start_time": "2025-10-17T19:55:47.685899Z"
    }
   },
   "cell_type": "code",
   "source": [
    "from tqdm.notebook import tqdm # Для красивого progress bar\n",
    "\n",
    "def train_model(model, criterion, optimizer, scheduler, num_epochs=10):\n",
    "    since = time.time()\n",
    "\n",
    "    # Сохраняем лучшие веса модели\n",
    "    best_model_wts = copy.deepcopy(model.state_dict())\n",
    "    best_acc = 0.0\n",
    "    \n",
    "    # Словари для хранения истории обучения\n",
    "    history = {\n",
    "        'train_loss': [],\n",
    "        'val_loss': [],\n",
    "        'train_acc': [],\n",
    "        'val_acc': []\n",
    "    }\n",
    "\n",
    "    for epoch in range(num_epochs):\n",
    "        print(f'Epoch {epoch + 1}/{num_epochs}')\n",
    "        print('-' * 10)\n",
    "\n",
    "        # Каждая эпоха имеет фазу обучения и валидации\n",
    "        for phase in ['train', 'val']:\n",
    "            if phase == 'train':\n",
    "                model.train()  # Установить модель в режим обучения\n",
    "            else:\n",
    "                model.eval()   # Установить модель в режим оценки\n",
    "\n",
    "            running_loss = 0.0\n",
    "            running_corrects = 0\n",
    "\n",
    "            # Итерация по данным\n",
    "            for inputs, labels in tqdm(dataloaders[phase]):\n",
    "                inputs = inputs.to(device)\n",
    "                labels = labels.to(device)\n",
    "\n",
    "                # Обнуляем градиенты\n",
    "                optimizer.zero_grad()\n",
    "\n",
    "                # Прямой проход (forward)\n",
    "                # Отслеживаем историю только в фазе обучения\n",
    "                with torch.set_grad_enabled(phase == 'train'):\n",
    "                    outputs = model(inputs)\n",
    "                    _, preds = torch.max(outputs, 1)\n",
    "                    loss = criterion(outputs, labels)\n",
    "\n",
    "                    # Обратный проход + оптимизация только в фазе обучения\n",
    "                    if phase == 'train':\n",
    "                        loss.backward()\n",
    "                        optimizer.step()\n",
    "\n",
    "                # Статистика\n",
    "                running_loss += loss.item() * inputs.size(0)\n",
    "                running_corrects += torch.sum(preds == labels.data)\n",
    "            \n",
    "            if phase == 'train':\n",
    "                scheduler.step()\n",
    "\n",
    "            epoch_loss = running_loss / dataset_sizes[phase]\n",
    "            epoch_acc = running_corrects.double() / dataset_sizes[phase]\n",
    "\n",
    "            print(f'{phase} Loss: {epoch_loss:.4f} Acc: {epoch_acc:.4f}')\n",
    "\n",
    "            # Сохраняем метрики в историю\n",
    "            history[f'{phase}_loss'].append(epoch_loss)\n",
    "            history[f'{phase}_acc'].append(epoch_acc.item())\n",
    "            \n",
    "            # Глубокое копирование модели, если она лучшая\n",
    "            if phase == 'val' and epoch_acc > best_acc:\n",
    "                best_acc = epoch_acc\n",
    "                best_model_wts = copy.deepcopy(model.state_dict())\n",
    "\n",
    "        print()\n",
    "\n",
    "    time_elapsed = time.time() - since\n",
    "    print(f'Training complete in {time_elapsed // 60:.0f}m {time_elapsed % 60:.0f}s')\n",
    "    print(f'Best val Acc: {best_acc:4f}')\n",
    "\n",
    "    # Загружаем лучшие веса\n",
    "    model.load_state_dict(best_model_wts)\n",
    "    return model, history"
   ],
   "id": "8c1d206ce2247ad2",
   "outputs": [],
   "execution_count": 4
  },
  {
   "metadata": {},
   "cell_type": "markdown",
   "source": "# Ячейка 5: Обучение модели ResNet18",
   "id": "ba10aa71f8223634"
  },
  {
   "metadata": {
    "ExecuteTime": {
     "end_time": "2025-10-17T19:57:15.080955Z",
     "start_time": "2025-10-17T19:55:53.308018Z"
    }
   },
   "cell_type": "code",
   "source": [
    "# 1. Задаем функцию потерь\n",
    "criterion = nn.CrossEntropyLoss()\n",
    "\n",
    "# 2. Создаем оптимизатор. Обратите внимание, что мы передаем в него\n",
    "# только обучаемые параметры нашей модели (голову).\n",
    "params_to_update_resnet = [p for p in model_resnet.parameters() if p.requires_grad]\n",
    "optimizer_resnet = optim.Adam(params_to_update_resnet, lr=0.001)\n",
    "\n",
    "# 3. Настраиваем планировщик скорости обучения\n",
    "# Будем уменьшать lr в 0.1 раза каждые 7 эпох\n",
    "exp_lr_scheduler_resnet = lr_scheduler.StepLR(optimizer_resnet, step_size=7, gamma=0.1)\n",
    "\n",
    "# 4. Запускаем обучение!\n",
    "NUM_EPOCHS = 10 \n",
    "trained_resnet, history_resnet = train_model(\n",
    "    model_resnet, \n",
    "    criterion, \n",
    "    optimizer_resnet, \n",
    "    exp_lr_scheduler_resnet, \n",
    "    num_epochs=NUM_EPOCHS\n",
    ")"
   ],
   "id": "b766e0289c6bd2",
   "outputs": [
    {
     "name": "stdout",
     "output_type": "stream",
     "text": [
      "Epoch 1/10\n",
      "----------\n"
     ]
    },
    {
     "data": {
      "text/plain": [
       "  0%|          | 0/5 [00:00<?, ?it/s]"
      ],
      "application/vnd.jupyter.widget-view+json": {
       "version_major": 2,
       "version_minor": 0,
       "model_id": "dea70c0278e6485eb58ab1c9af75427b"
      }
     },
     "metadata": {},
     "output_type": "display_data"
    },
    {
     "name": "stdout",
     "output_type": "stream",
     "text": [
      "train Loss: 1.0286 Acc: 0.5833\n"
     ]
    },
    {
     "data": {
      "text/plain": [
       "  0%|          | 0/2 [00:00<?, ?it/s]"
      ],
      "application/vnd.jupyter.widget-view+json": {
       "version_major": 2,
       "version_minor": 0,
       "model_id": "c305fe5f78d8493a980682a786cd4cb9"
      }
     },
     "metadata": {},
     "output_type": "display_data"
    },
    {
     "name": "stdout",
     "output_type": "stream",
     "text": [
      "val Loss: 1.0142 Acc: 0.7059\n",
      "\n",
      "Epoch 2/10\n",
      "----------\n"
     ]
    },
    {
     "data": {
      "text/plain": [
       "  0%|          | 0/5 [00:00<?, ?it/s]"
      ],
      "application/vnd.jupyter.widget-view+json": {
       "version_major": 2,
       "version_minor": 0,
       "model_id": "820eae5a5738456fb73b42b5b76507f9"
      }
     },
     "metadata": {},
     "output_type": "display_data"
    },
    {
     "name": "stdout",
     "output_type": "stream",
     "text": [
      "train Loss: 0.9452 Acc: 0.7639\n"
     ]
    },
    {
     "data": {
      "text/plain": [
       "  0%|          | 0/2 [00:00<?, ?it/s]"
      ],
      "application/vnd.jupyter.widget-view+json": {
       "version_major": 2,
       "version_minor": 0,
       "model_id": "608c53192de44551846947f58eecc2b2"
      }
     },
     "metadata": {},
     "output_type": "display_data"
    },
    {
     "name": "stdout",
     "output_type": "stream",
     "text": [
      "val Loss: 1.0003 Acc: 0.6471\n",
      "\n",
      "Epoch 3/10\n",
      "----------\n"
     ]
    },
    {
     "data": {
      "text/plain": [
       "  0%|          | 0/5 [00:00<?, ?it/s]"
      ],
      "application/vnd.jupyter.widget-view+json": {
       "version_major": 2,
       "version_minor": 0,
       "model_id": "1d28c1e29fd04ba3b887568fd9471489"
      }
     },
     "metadata": {},
     "output_type": "display_data"
    },
    {
     "name": "stdout",
     "output_type": "stream",
     "text": [
      "train Loss: 0.8530 Acc: 0.8333\n"
     ]
    },
    {
     "data": {
      "text/plain": [
       "  0%|          | 0/2 [00:00<?, ?it/s]"
      ],
      "application/vnd.jupyter.widget-view+json": {
       "version_major": 2,
       "version_minor": 0,
       "model_id": "ce8aa2016ee748c0b97d8b1e7c97e948"
      }
     },
     "metadata": {},
     "output_type": "display_data"
    },
    {
     "name": "stdout",
     "output_type": "stream",
     "text": [
      "val Loss: 0.9477 Acc: 0.6471\n",
      "\n",
      "Epoch 4/10\n",
      "----------\n"
     ]
    },
    {
     "data": {
      "text/plain": [
       "  0%|          | 0/5 [00:00<?, ?it/s]"
      ],
      "application/vnd.jupyter.widget-view+json": {
       "version_major": 2,
       "version_minor": 0,
       "model_id": "da983229b0204959bab9089ddd988310"
      }
     },
     "metadata": {},
     "output_type": "display_data"
    },
    {
     "name": "stdout",
     "output_type": "stream",
     "text": [
      "train Loss: 0.7836 Acc: 0.8611\n"
     ]
    },
    {
     "data": {
      "text/plain": [
       "  0%|          | 0/2 [00:00<?, ?it/s]"
      ],
      "application/vnd.jupyter.widget-view+json": {
       "version_major": 2,
       "version_minor": 0,
       "model_id": "113dc125bb034789b30233d90d0b8280"
      }
     },
     "metadata": {},
     "output_type": "display_data"
    },
    {
     "name": "stdout",
     "output_type": "stream",
     "text": [
      "val Loss: 0.9085 Acc: 0.7059\n",
      "\n",
      "Epoch 5/10\n",
      "----------\n"
     ]
    },
    {
     "data": {
      "text/plain": [
       "  0%|          | 0/5 [00:00<?, ?it/s]"
      ],
      "application/vnd.jupyter.widget-view+json": {
       "version_major": 2,
       "version_minor": 0,
       "model_id": "5816852751404d65a0b092b5a36dbb4c"
      }
     },
     "metadata": {},
     "output_type": "display_data"
    },
    {
     "name": "stdout",
     "output_type": "stream",
     "text": [
      "train Loss: 0.7317 Acc: 0.8750\n"
     ]
    },
    {
     "data": {
      "text/plain": [
       "  0%|          | 0/2 [00:00<?, ?it/s]"
      ],
      "application/vnd.jupyter.widget-view+json": {
       "version_major": 2,
       "version_minor": 0,
       "model_id": "435c297c2720455c8155aeaf656de1ae"
      }
     },
     "metadata": {},
     "output_type": "display_data"
    },
    {
     "name": "stdout",
     "output_type": "stream",
     "text": [
      "val Loss: 0.8725 Acc: 0.7059\n",
      "\n",
      "Epoch 6/10\n",
      "----------\n"
     ]
    },
    {
     "data": {
      "text/plain": [
       "  0%|          | 0/5 [00:00<?, ?it/s]"
      ],
      "application/vnd.jupyter.widget-view+json": {
       "version_major": 2,
       "version_minor": 0,
       "model_id": "09e4dd6b2b5b4a64b2211e534f94a24d"
      }
     },
     "metadata": {},
     "output_type": "display_data"
    },
    {
     "name": "stdout",
     "output_type": "stream",
     "text": [
      "train Loss: 0.6878 Acc: 0.9583\n"
     ]
    },
    {
     "data": {
      "text/plain": [
       "  0%|          | 0/2 [00:00<?, ?it/s]"
      ],
      "application/vnd.jupyter.widget-view+json": {
       "version_major": 2,
       "version_minor": 0,
       "model_id": "3f2fd906054d45d6a73fd30eda50e036"
      }
     },
     "metadata": {},
     "output_type": "display_data"
    },
    {
     "name": "stdout",
     "output_type": "stream",
     "text": [
      "val Loss: 0.8401 Acc: 0.7647\n",
      "\n",
      "Epoch 7/10\n",
      "----------\n"
     ]
    },
    {
     "data": {
      "text/plain": [
       "  0%|          | 0/5 [00:00<?, ?it/s]"
      ],
      "application/vnd.jupyter.widget-view+json": {
       "version_major": 2,
       "version_minor": 0,
       "model_id": "c0d55380ab7e4359b6efad7dcbbadbc3"
      }
     },
     "metadata": {},
     "output_type": "display_data"
    },
    {
     "name": "stdout",
     "output_type": "stream",
     "text": [
      "train Loss: 0.6488 Acc: 0.9583\n"
     ]
    },
    {
     "data": {
      "text/plain": [
       "  0%|          | 0/2 [00:00<?, ?it/s]"
      ],
      "application/vnd.jupyter.widget-view+json": {
       "version_major": 2,
       "version_minor": 0,
       "model_id": "28b0427325084603a765ae61939d70c8"
      }
     },
     "metadata": {},
     "output_type": "display_data"
    },
    {
     "name": "stdout",
     "output_type": "stream",
     "text": [
      "val Loss: 0.8279 Acc: 0.7059\n",
      "\n",
      "Epoch 8/10\n",
      "----------\n"
     ]
    },
    {
     "data": {
      "text/plain": [
       "  0%|          | 0/5 [00:00<?, ?it/s]"
      ],
      "application/vnd.jupyter.widget-view+json": {
       "version_major": 2,
       "version_minor": 0,
       "model_id": "18375237b29b4f849a79e660f6ef09fc"
      }
     },
     "metadata": {},
     "output_type": "display_data"
    },
    {
     "name": "stdout",
     "output_type": "stream",
     "text": [
      "train Loss: 0.5880 Acc: 0.9722\n"
     ]
    },
    {
     "data": {
      "text/plain": [
       "  0%|          | 0/2 [00:00<?, ?it/s]"
      ],
      "application/vnd.jupyter.widget-view+json": {
       "version_major": 2,
       "version_minor": 0,
       "model_id": "a16343d71db44e09960a66ed2e24a425"
      }
     },
     "metadata": {},
     "output_type": "display_data"
    },
    {
     "name": "stdout",
     "output_type": "stream",
     "text": [
      "val Loss: 0.8157 Acc: 0.7059\n",
      "\n",
      "Epoch 9/10\n",
      "----------\n"
     ]
    },
    {
     "data": {
      "text/plain": [
       "  0%|          | 0/5 [00:00<?, ?it/s]"
      ],
      "application/vnd.jupyter.widget-view+json": {
       "version_major": 2,
       "version_minor": 0,
       "model_id": "0dc25b00f9b4475cad7ef443004a527c"
      }
     },
     "metadata": {},
     "output_type": "display_data"
    },
    {
     "name": "stdout",
     "output_type": "stream",
     "text": [
      "train Loss: 0.5936 Acc: 0.9583\n"
     ]
    },
    {
     "data": {
      "text/plain": [
       "  0%|          | 0/2 [00:00<?, ?it/s]"
      ],
      "application/vnd.jupyter.widget-view+json": {
       "version_major": 2,
       "version_minor": 0,
       "model_id": "ca879c04a57c4953bbb5ab424e880261"
      }
     },
     "metadata": {},
     "output_type": "display_data"
    },
    {
     "name": "stdout",
     "output_type": "stream",
     "text": [
      "val Loss: 0.8298 Acc: 0.7059\n",
      "\n",
      "Epoch 10/10\n",
      "----------\n"
     ]
    },
    {
     "data": {
      "text/plain": [
       "  0%|          | 0/5 [00:00<?, ?it/s]"
      ],
      "application/vnd.jupyter.widget-view+json": {
       "version_major": 2,
       "version_minor": 0,
       "model_id": "16d4794b099346dfb2c96203ef5ba841"
      }
     },
     "metadata": {},
     "output_type": "display_data"
    },
    {
     "name": "stdout",
     "output_type": "stream",
     "text": [
      "train Loss: 0.5879 Acc: 0.9861\n"
     ]
    },
    {
     "data": {
      "text/plain": [
       "  0%|          | 0/2 [00:00<?, ?it/s]"
      ],
      "application/vnd.jupyter.widget-view+json": {
       "version_major": 2,
       "version_minor": 0,
       "model_id": "a77b0d835ee348958f51ab10e3fe030d"
      }
     },
     "metadata": {},
     "output_type": "display_data"
    },
    {
     "name": "stdout",
     "output_type": "stream",
     "text": [
      "val Loss: 0.8307 Acc: 0.7059\n",
      "\n",
      "Training complete in 1m 22s\n",
      "Best val Acc: 0.764706\n"
     ]
    }
   ],
   "execution_count": 5
  },
  {
   "metadata": {},
   "cell_type": "markdown",
   "source": "# Ячейка 6: Визуализация результатов обучения ResNet18",
   "id": "f7cd9ded4a5d1669"
  },
  {
   "metadata": {
    "ExecuteTime": {
     "end_time": "2025-10-17T19:57:19.257099Z",
     "start_time": "2025-10-17T19:57:18.596723Z"
    }
   },
   "cell_type": "code",
   "source": [
    "def plot_history(history, model_name):\n",
    "    fig, (ax1, ax2) = plt.subplots(1, 2, figsize=(15, 5))\n",
    "    \n",
    "    # График потерь (Loss)\n",
    "    ax1.plot(history['train_loss'], label='Train Loss')\n",
    "    ax1.plot(history['val_loss'], label='Validation Loss')\n",
    "    ax1.set_title(f'{model_name} - Loss over Epochs')\n",
    "    ax1.set_xlabel('Epoch')\n",
    "    ax1.set_ylabel('Loss')\n",
    "    ax1.legend()\n",
    "    ax1.grid(True)\n",
    "\n",
    "    # График точности (Accuracy)\n",
    "    ax2.plot(history['train_acc'], label='Train Accuracy')\n",
    "    ax2.plot(history['val_acc'], label='Validation Accuracy')\n",
    "    ax2.set_title(f'{model_name} - Accuracy over Epochs')\n",
    "    ax2.set_xlabel('Epoch')\n",
    "    ax2.set_ylabel('Accuracy')\n",
    "    ax2.legend()\n",
    "    ax2.grid(True)\n",
    "    \n",
    "    plt.show()\n",
    "\n",
    "plot_history(history_resnet, \"ResNet18\")"
   ],
   "id": "22d977d490afd9b9",
   "outputs": [
    {
     "data": {
      "text/plain": [
       "<Figure size 1500x500 with 2 Axes>"
      ],
      "image/png": "[encoded data removed]"
     },
     "metadata": {},
     "output_type": "display_data"
    }
   ],
   "execution_count": 6
  },
  {
   "metadata": {},
   "cell_type": "markdown",
   "source": "# Ячейка 7: Обучение модели EfficientNet_B0",
   "id": "3f54488bace82c1b"
  },
  {
   "metadata": {
    "ExecuteTime": {
     "end_time": "2025-10-17T19:58:55.545122Z",
     "start_time": "2025-10-17T19:57:28.562684Z"
    }
   },
   "cell_type": "code",
   "source": [
    "# Создаем оптимизатор для EfficientNet_B0\n",
    "params_to_update_effnet = [p for p in model_effnet.parameters() if p.requires_grad]\n",
    "optimizer_effnet = optim.Adam(params_to_update_effnet, lr=0.001)\n",
    "\n",
    "# Настраиваем планировщик\n",
    "exp_lr_scheduler_effnet = lr_scheduler.StepLR(optimizer_effnet, step_size=7, gamma=0.1)\n",
    "\n",
    "# Запускаем обучение EfficientNet_B0\n",
    "trained_effnet, history_effnet = train_model(\n",
    "    model_effnet, \n",
    "    criterion, \n",
    "    optimizer_effnet, \n",
    "    exp_lr_scheduler_effnet, \n",
    "    num_epochs=NUM_EPOCHS\n",
    ")"
   ],
   "id": "e5e9adacba1d6735",
   "outputs": [
    {
     "name": "stdout",
     "output_type": "stream",
     "text": [
      "Epoch 1/10\n",
      "----------\n"
     ]
    },
    {
     "data": {
      "text/plain": [
       "  0%|          | 0/5 [00:00<?, ?it/s]"
      ],
      "application/vnd.jupyter.widget-view+json": {
       "version_major": 2,
       "version_minor": 0,
       "model_id": "088bc586d57a4f45b646a603bc5ff3da"
      }
     },
     "metadata": {},
     "output_type": "display_data"
    },
    {
     "name": "stdout",
     "output_type": "stream",
     "text": [
      "train Loss: 3.2800 Acc: 0.3194\n"
     ]
    },
    {
     "data": {
      "text/plain": [
       "  0%|          | 0/2 [00:00<?, ?it/s]"
      ],
      "application/vnd.jupyter.widget-view+json": {
       "version_major": 2,
       "version_minor": 0,
       "model_id": "70879b08165b43e482a50fcb7d9621a8"
      }
     },
     "metadata": {},
     "output_type": "display_data"
    },
    {
     "name": "stdout",
     "output_type": "stream",
     "text": [
      "val Loss: 1.9398 Acc: 0.4706\n",
      "\n",
      "Epoch 2/10\n",
      "----------\n"
     ]
    },
    {
     "data": {
      "text/plain": [
       "  0%|          | 0/5 [00:00<?, ?it/s]"
      ],
      "application/vnd.jupyter.widget-view+json": {
       "version_major": 2,
       "version_minor": 0,
       "model_id": "95b5c499517248b3ae4776cd7a1da4fd"
      }
     },
     "metadata": {},
     "output_type": "display_data"
    },
    {
     "name": "stdout",
     "output_type": "stream",
     "text": [
      "train Loss: 3.0758 Acc: 0.4167\n"
     ]
    },
    {
     "data": {
      "text/plain": [
       "  0%|          | 0/2 [00:00<?, ?it/s]"
      ],
      "application/vnd.jupyter.widget-view+json": {
       "version_major": 2,
       "version_minor": 0,
       "model_id": "8194e459ce2e4f2293086d1d4b8fb6b5"
      }
     },
     "metadata": {},
     "output_type": "display_data"
    },
    {
     "name": "stdout",
     "output_type": "stream",
     "text": [
      "val Loss: 2.4462 Acc: 0.4706\n",
      "\n",
      "Epoch 3/10\n",
      "----------\n"
     ]
    },
    {
     "data": {
      "text/plain": [
       "  0%|          | 0/5 [00:00<?, ?it/s]"
      ],
      "application/vnd.jupyter.widget-view+json": {
       "version_major": 2,
       "version_minor": 0,
       "model_id": "ed20e73fb5a542e08b0323a314cc6777"
      }
     },
     "metadata": {},
     "output_type": "display_data"
    },
    {
     "name": "stdout",
     "output_type": "stream",
     "text": [
      "train Loss: 2.6120 Acc: 0.4722\n"
     ]
    },
    {
     "data": {
      "text/plain": [
       "  0%|          | 0/2 [00:00<?, ?it/s]"
      ],
      "application/vnd.jupyter.widget-view+json": {
       "version_major": 2,
       "version_minor": 0,
       "model_id": "893c676e28e049f0aa5148741c1e3455"
      }
     },
     "metadata": {},
     "output_type": "display_data"
    },
    {
     "name": "stdout",
     "output_type": "stream",
     "text": [
      "val Loss: 2.2008 Acc: 0.4118\n",
      "\n",
      "Epoch 4/10\n",
      "----------\n"
     ]
    },
    {
     "data": {
      "text/plain": [
       "  0%|          | 0/5 [00:00<?, ?it/s]"
      ],
      "application/vnd.jupyter.widget-view+json": {
       "version_major": 2,
       "version_minor": 0,
       "model_id": "314ce4e2687e466cbdf38d2df8cedb89"
      }
     },
     "metadata": {},
     "output_type": "display_data"
    },
    {
     "name": "stdout",
     "output_type": "stream",
     "text": [
      "train Loss: 2.1585 Acc: 0.5417\n"
     ]
    },
    {
     "data": {
      "text/plain": [
       "  0%|          | 0/2 [00:00<?, ?it/s]"
      ],
      "application/vnd.jupyter.widget-view+json": {
       "version_major": 2,
       "version_minor": 0,
       "model_id": "a388628973e1497cb87249b28c041f34"
      }
     },
     "metadata": {},
     "output_type": "display_data"
    },
    {
     "name": "stdout",
     "output_type": "stream",
     "text": [
      "val Loss: 2.1809 Acc: 0.5294\n",
      "\n",
      "Epoch 5/10\n",
      "----------\n"
     ]
    },
    {
     "data": {
      "text/plain": [
       "  0%|          | 0/5 [00:00<?, ?it/s]"
      ],
      "application/vnd.jupyter.widget-view+json": {
       "version_major": 2,
       "version_minor": 0,
       "model_id": "c97147791d4f4f6d8b5b5522ec6a2ac4"
      }
     },
     "metadata": {},
     "output_type": "display_data"
    },
    {
     "name": "stdout",
     "output_type": "stream",
     "text": [
      "train Loss: 1.8845 Acc: 0.5417\n"
     ]
    },
    {
     "data": {
      "text/plain": [
       "  0%|          | 0/2 [00:00<?, ?it/s]"
      ],
      "application/vnd.jupyter.widget-view+json": {
       "version_major": 2,
       "version_minor": 0,
       "model_id": "6cbbb0d6f87a4b0fb200a68e91116646"
      }
     },
     "metadata": {},
     "output_type": "display_data"
    },
    {
     "name": "stdout",
     "output_type": "stream",
     "text": [
      "val Loss: 2.1572 Acc: 0.5294\n",
      "\n",
      "Epoch 6/10\n",
      "----------\n"
     ]
    },
    {
     "data": {
      "text/plain": [
       "  0%|          | 0/5 [00:00<?, ?it/s]"
      ],
      "application/vnd.jupyter.widget-view+json": {
       "version_major": 2,
       "version_minor": 0,
       "model_id": "99eb081ee4be40e8bc1efb92971fe420"
      }
     },
     "metadata": {},
     "output_type": "display_data"
    },
    {
     "name": "stdout",
     "output_type": "stream",
     "text": [
      "train Loss: 2.1038 Acc: 0.4583\n"
     ]
    },
    {
     "data": {
      "text/plain": [
       "  0%|          | 0/2 [00:00<?, ?it/s]"
      ],
      "application/vnd.jupyter.widget-view+json": {
       "version_major": 2,
       "version_minor": 0,
       "model_id": "1c8980f94a4e4ea889331c1f42366981"
      }
     },
     "metadata": {},
     "output_type": "display_data"
    },
    {
     "name": "stdout",
     "output_type": "stream",
     "text": [
      "val Loss: 1.8862 Acc: 0.5882\n",
      "\n",
      "Epoch 7/10\n",
      "----------\n"
     ]
    },
    {
     "data": {
      "text/plain": [
       "  0%|          | 0/5 [00:00<?, ?it/s]"
      ],
      "application/vnd.jupyter.widget-view+json": {
       "version_major": 2,
       "version_minor": 0,
       "model_id": "65701aa652dd4601b2097929ac594b88"
      }
     },
     "metadata": {},
     "output_type": "display_data"
    },
    {
     "name": "stdout",
     "output_type": "stream",
     "text": [
      "train Loss: 1.7382 Acc: 0.5694\n"
     ]
    },
    {
     "data": {
      "text/plain": [
       "  0%|          | 0/2 [00:00<?, ?it/s]"
      ],
      "application/vnd.jupyter.widget-view+json": {
       "version_major": 2,
       "version_minor": 0,
       "model_id": "5f9d17e53f1549d8b8f76379dcafd5f0"
      }
     },
     "metadata": {},
     "output_type": "display_data"
    },
    {
     "name": "stdout",
     "output_type": "stream",
     "text": [
      "val Loss: 1.8198 Acc: 0.5882\n",
      "\n",
      "Epoch 8/10\n",
      "----------\n"
     ]
    },
    {
     "data": {
      "text/plain": [
       "  0%|          | 0/5 [00:00<?, ?it/s]"
      ],
      "application/vnd.jupyter.widget-view+json": {
       "version_major": 2,
       "version_minor": 0,
       "model_id": "f44a0956eeeb49279bb2fca3dcc260e0"
      }
     },
     "metadata": {},
     "output_type": "display_data"
    },
    {
     "name": "stdout",
     "output_type": "stream",
     "text": [
      "train Loss: 1.5122 Acc: 0.6806\n"
     ]
    },
    {
     "data": {
      "text/plain": [
       "  0%|          | 0/2 [00:00<?, ?it/s]"
      ],
      "application/vnd.jupyter.widget-view+json": {
       "version_major": 2,
       "version_minor": 0,
       "model_id": "9c06dfa5225248f7932312d63c155b5b"
      }
     },
     "metadata": {},
     "output_type": "display_data"
    },
    {
     "name": "stdout",
     "output_type": "stream",
     "text": [
      "val Loss: 1.8813 Acc: 0.5882\n",
      "\n",
      "Epoch 9/10\n",
      "----------\n"
     ]
    },
    {
     "data": {
      "text/plain": [
       "  0%|          | 0/5 [00:00<?, ?it/s]"
      ],
      "application/vnd.jupyter.widget-view+json": {
       "version_major": 2,
       "version_minor": 0,
       "model_id": "63ca0d4afa1d47d5a69363b27f5f7cdf"
      }
     },
     "metadata": {},
     "output_type": "display_data"
    },
    {
     "name": "stdout",
     "output_type": "stream",
     "text": [
      "train Loss: 1.6232 Acc: 0.6250\n"
     ]
    },
    {
     "data": {
      "text/plain": [
       "  0%|          | 0/2 [00:00<?, ?it/s]"
      ],
      "application/vnd.jupyter.widget-view+json": {
       "version_major": 2,
       "version_minor": 0,
       "model_id": "ed185fd19e5a4e3c9f3d7dc1ba26fdf3"
      }
     },
     "metadata": {},
     "output_type": "display_data"
    },
    {
     "name": "stdout",
     "output_type": "stream",
     "text": [
      "val Loss: 1.8147 Acc: 0.5882\n",
      "\n",
      "Epoch 10/10\n",
      "----------\n"
     ]
    },
    {
     "data": {
      "text/plain": [
       "  0%|          | 0/5 [00:00<?, ?it/s]"
      ],
      "application/vnd.jupyter.widget-view+json": {
       "version_major": 2,
       "version_minor": 0,
       "model_id": "665307cb82ee4e8b8b61d3f74e382d49"
      }
     },
     "metadata": {},
     "output_type": "display_data"
    },
    {
     "name": "stdout",
     "output_type": "stream",
     "text": [
      "train Loss: 1.3499 Acc: 0.5694\n"
     ]
    },
    {
     "data": {
      "text/plain": [
       "  0%|          | 0/2 [00:00<?, ?it/s]"
      ],
      "application/vnd.jupyter.widget-view+json": {
       "version_major": 2,
       "version_minor": 0,
       "model_id": "721f4e58a2174641b403e3931e8fed66"
      }
     },
     "metadata": {},
     "output_type": "display_data"
    },
    {
     "name": "stdout",
     "output_type": "stream",
     "text": [
      "val Loss: 2.0279 Acc: 0.5294\n",
      "\n",
      "Training complete in 1m 27s\n",
      "Best val Acc: 0.588235\n"
     ]
    }
   ],
   "execution_count": 7
  },
  {
   "metadata": {},
   "cell_type": "markdown",
   "source": "# Ячейка 8: Визуализация результатов обучения EfficientNet_B0",
   "id": "5de6865d130a496"
  },
  {
   "metadata": {
    "ExecuteTime": {
     "end_time": "2025-10-17T19:59:12.629660Z",
     "start_time": "2025-10-17T19:59:12.484676Z"
    }
   },
   "cell_type": "code",
   "source": "plot_history(history_effnet, \"EfficientNet_B0\")",
   "id": "3e3e25338343610b",
   "outputs": [
    {
     "data": {
      "text/plain": [
       "<Figure size 1500x500 with 2 Axes>"
      ],
      "image/png": "[encoded data removed]"
     },
     "metadata": {},
     "output_type": "display_data"
    }
   ],
   "execution_count": 8
  },
  {
   "metadata": {},
   "cell_type": "markdown",
   "source": "# Ячейка 9: Функция для построения матрицы ошибок",
   "id": "a84a02c75d2bb1da"
  },
  {
   "metadata": {
    "ExecuteTime": {
     "end_time": "2025-10-17T19:59:24.643460Z",
     "start_time": "2025-10-17T19:59:16.517650Z"
    }
   },
   "cell_type": "code",
   "source": [
    "from sklearn.metrics import confusion_matrix\n",
    "import seaborn as sns\n",
    "import pandas as pd\n",
    "\n",
    "def plot_confusion_matrix(model, model_name):\n",
    "    model.eval() # Переводим модель в режим оценки\n",
    "    \n",
    "    all_preds = torch.tensor([]).to(device)\n",
    "    all_labels = torch.tensor([]).to(device)\n",
    "\n",
    "    with torch.no_grad():\n",
    "        for inputs, labels in dataloaders['val']:\n",
    "            inputs = inputs.to(device)\n",
    "            labels = labels.to(device)\n",
    "            \n",
    "            outputs = model(inputs)\n",
    "            _, preds = torch.max(outputs, 1)\n",
    "            \n",
    "            all_preds = torch.cat((all_preds, preds), dim=0)\n",
    "            all_labels = torch.cat((all_labels, labels), dim=0)\n",
    "    \n",
    "    # Переносим на CPU для работы с sklearn\n",
    "    all_preds = all_preds.cpu().numpy()\n",
    "    all_labels = all_labels.cpu().numpy()\n",
    "\n",
    "    cm = confusion_matrix(all_labels, all_preds)\n",
    "    df_cm = pd.DataFrame(cm, index=class_names, columns=class_names)\n",
    "    \n",
    "    plt.figure(figsize=(8, 6))\n",
    "    sns.heatmap(df_cm, annot=True, cmap='Blues', fmt='g')\n",
    "    plt.title(f'Матрица ошибок для {model_name}')\n",
    "    plt.ylabel('Истинный класс')\n",
    "    plt.xlabel('Предсказанный класс')\n",
    "    plt.show()\n",
    "\n",
    "# Строим матрицу для ResNet18\n",
    "plot_confusion_matrix(trained_resnet, \"ResNet18\")\n",
    "\n",
    "# После обучения EfficientNet_B0, вы сможете построить матрицу и для него:\n",
    "plot_confusion_matrix(trained_effnet, \"EfficientNet_B0\")"
   ],
   "id": "e28ce999a6c855d1",
   "outputs": [
    {
     "data": {
      "text/plain": [
       "<Figure size 800x600 with 2 Axes>"
      ],
      "image/png": "[encoded data removed]"
     },
     "metadata": {},
     "output_type": "display_data"
    },
    {
     "data": {
      "text/plain": [
       "<Figure size 800x600 with 2 Axes>"
      ],
      "image/png": "[encoded data removed]"
     },
     "metadata": {},
     "output_type": "display_data"
    }
   ],
   "execution_count": 9
  },
  {
   "metadata": {},
   "cell_type": "code",
   "outputs": [],
   "execution_count": null,
   "source": "",
   "id": "6fdf1366ed7ee35c"
  }
 ],
 "metadata": {
  "kernelspec": {
   "display_name": "Python 3",
   "language": "python",
   "name": "python3"
  },
  "language_info": {
   "codemirror_mode": {
    "name": "ipython",
    "version": 2
   },
   "file_extension": ".py",
   "mimetype": "text/x-python",
   "name": "python",
   "nbconvert_exporter": "python",
   "pygments_lexer": "ipython2",
   "version": "2.7.6"
  }
 },
 "nbformat": 4,
 "nbformat_minor": 5
}
